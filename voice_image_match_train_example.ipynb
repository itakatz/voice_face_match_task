{
 "cells": [
  {
   "cell_type": "code",
   "execution_count": null,
   "id": "28061cb7-ba2f-458d-9cee-dca662141735",
   "metadata": {},
   "outputs": [],
   "source": [
    "import pickle\n",
    "import numpy as np\n",
    "import torch\n",
    "import torch.nn as nn\n",
    "import torch.optim as optim\n",
    "from torch.optim.lr_scheduler import ExponentialLR\n",
    "from torch.utils.data import DataLoader\n",
    "#import tqdm\n",
    "import time\n",
    "import os\n",
    "\n",
    "import voice_face_match as vfm\n",
    "import voice_face_match_train"
   ]
  },
  {
   "cell_type": "markdown",
   "id": "8f6ffa0c-8a67-456d-af1b-63e4a4b334b2",
   "metadata": {},
   "source": [
    "# Train example\n",
    "### This is just an example. To run from commandline, see `scripts/train.sh`"
   ]
  },
  {
   "cell_type": "code",
   "execution_count": null,
   "id": "90be8b56-c777-4683-b45b-121cacef1adb",
   "metadata": {},
   "outputs": [],
   "source": [
    "#--- example: train with smallest data set of 1 neg sample per pos sample\n",
    "input_data_file = 'data/data_num_neg_pp_1.pickle'\n",
    "results_folder = 'saved_models_TMP/num_neg_pp_1'\n",
    "best_fnm, final_fnm, stats = voice_face_match_train.main(input_data_file, results_folder)"
   ]
  },
  {
   "cell_type": "code",
   "execution_count": null,
   "id": "ab3c63d5-6944-4f1b-9ada-a46fc48c728a",
   "metadata": {},
   "outputs": [],
   "source": [
    "import matplotlib.pyplot as plt\n",
    "fig, ax = plt.subplots()\n",
    "ax.plot(np.array(stats['train_loss']), '.')\n",
    "ax.plot(stats['val_loss'], '.')\n",
    "ax.plot(stats['val_acc'], '.')\n",
    "ax.grid()\n",
    "ax.legend(['train loss', 'validation loss', 'validation accuracy'])\n",
    "fig.show()\n",
    "fig.savefig(f'{results_folder}/learning_curves.png')"
   ]
  },
  {
   "cell_type": "raw",
   "id": "8f22cb4e-8381-4d21-aa0d-445fb4b501d8",
   "metadata": {},
   "source": [
    "#--- compare final and best on validation set, evaluate best on test set (set names manually for cross-eval models and datasets)\n",
    "if True:\n",
    "    #best_fnm = 'saved_models/num_neg_pp_1/best_model_epoch27.pth'\n",
    "    #final_fnm = 'saved_models/num_neg_pp_1/final_model_epoch99.pth'\n",
    "\n",
    "    #best_fnm = 'saved_models/num_neg_pp_2/best_model_epoch32.pth'\n",
    "    #final_fnm = 'saved_models/num_neg_pp_2/final_model_epoch99.pth'\n",
    "\n",
    "    best_fnm = 'saved_models/num_neg_pp_5/best_model_epoch15.pth'\n",
    "    final_fnm = 'saved_models/num_neg_pp_5/final_model_epoch99.pth'\n",
    "else:\n",
    "    best_fnm = best_model_fnm \n",
    "    final_fnm = final_model_fnm\n",
    "\n",
    "final_model = VoiceFaceModel(dims[0], dims[1], cfg)\n",
    "final_model.load_state_dict(torch.load(final_fnm))\n",
    "\n",
    "best_model = VoiceFaceModel(dims[0], dims[1], cfg)\n",
    "best_model.load_state_dict(torch.load(best_fnm))\n",
    "\n",
    "loss, acc = vfm.eval_model(final_model, loss_fn, val_dataloader, use_cuda)\n",
    "print(f'final model (validation set): loss {loss:.3f} acc {acc:.3f}')\n",
    "\n",
    "loss_best, acc_best = vfm.eval_model(best_model, loss_fn, val_dataloader, use_cuda)\n",
    "print(f'best model  (validation set): loss {loss_best:.3f} acc {acc_best:.3f}')\n",
    "\n",
    "test_loss_best, test_acc_best = vfm.eval_model(best_model, loss_fn, test_dataloader, use_cuda)\n",
    "print(f'best model  (test set):       loss {test_loss_best:.3f} acc {test_acc_best:.3f}')"
   ]
  }
 ],
 "metadata": {
  "kernelspec": {
   "display_name": "Python 3 (ipykernel)",
   "language": "python",
   "name": "python3"
  },
  "language_info": {
   "codemirror_mode": {
    "name": "ipython",
    "version": 3
   },
   "file_extension": ".py",
   "mimetype": "text/x-python",
   "name": "python",
   "nbconvert_exporter": "python",
   "pygments_lexer": "ipython3",
   "version": "3.11.3"
  }
 },
 "nbformat": 4,
 "nbformat_minor": 5
}
