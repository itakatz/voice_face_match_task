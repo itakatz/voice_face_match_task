{
 "cells": [
  {
   "cell_type": "code",
   "execution_count": 11,
   "id": "813b2cda-cdb5-4c51-9770-f3bf56c78ffe",
   "metadata": {},
   "outputs": [],
   "source": [
    "import IPython.display as ipd\n",
    "import librosa\n",
    "import glob\n",
    "import pickle\n",
    "import itertools\n",
    "import pandas as pd\n",
    "import numpy as np\n",
    "from unidecode import unidecode "
   ]
  },
  {
   "cell_type": "markdown",
   "id": "4761c67b-5cfd-4186-ad31-6c80bed133b0",
   "metadata": {},
   "source": [
    "# Explore data"
   ]
  },
  {
   "cell_type": "code",
   "execution_count": null,
   "id": "13f67c72-5686-41a2-a8da-d43f907e482a",
   "metadata": {},
   "outputs": [],
   "source": [
    "# TODO some audio and image celeb folder names don't match, i.e with non-ascii characters\n",
    "cnm_list = [nm.split('/')[-1] for nm in glob.glob('vfm_assignment/audio/*')]\n",
    "cnm = cnm_list[6] #'Adam_Driver'\n",
    "im_flist = glob.glob(f'vfm_assignment/images/{cnm}/*.jpg')\n",
    "wav_flist = glob.glob(f'vfm_assignment/audio/{cnm}/*/*.wav')\n",
    "print(f'celeb {cnm}, {len(im_flist)} images, {len(wav_flist)} wavs')"
   ]
  },
  {
   "cell_type": "code",
   "execution_count": null,
   "id": "7dcb5468-1043-45e1-8b48-32c4dd46eb70",
   "metadata": {},
   "outputs": [],
   "source": [
    "for wav in wav_flist:\n",
    "    x, sr = librosa.load(wav, sr = None)\n",
    "    ipd.display(ipd.Audio(x, rate=sr, normalize=False))\n",
    "\n",
    "ipd.display(*[ipd.Image(img, width = 100) for img in im_flist])"
   ]
  },
  {
   "cell_type": "markdown",
   "id": "44f8e7ba-2f05-452f-ae03-abe2d5953a0d",
   "metadata": {},
   "source": [
    "# Run data preparation script"
   ]
  },
  {
   "cell_type": "code",
   "execution_count": null,
   "id": "c16a508f-f135-4f8d-ad90-6cec04b573c0",
   "metadata": {},
   "outputs": [],
   "source": [
    "!bash scripts/prepare_dataset.sh"
   ]
  }
 ],
 "metadata": {
  "kernelspec": {
   "display_name": "Python 3 (ipykernel)",
   "language": "python",
   "name": "python3"
  },
  "language_info": {
   "codemirror_mode": {
    "name": "ipython",
    "version": 3
   },
   "file_extension": ".py",
   "mimetype": "text/x-python",
   "name": "python",
   "nbconvert_exporter": "python",
   "pygments_lexer": "ipython3",
   "version": "3.11.3"
  }
 },
 "nbformat": 4,
 "nbformat_minor": 5
}
